{
 "cells": [
  {
   "cell_type": "code",
   "execution_count": 1,
   "id": "bb1ce7d4",
   "metadata": {},
   "outputs": [],
   "source": [
    "import yfinance as yf\n",
    "from sklearn.model_selection import train_test_split\n",
    "from sklearn.preprocessing import StandardScaler\n",
    "import pandas as pd\n",
    "import tensorflow as tf\n",
    "import matplotlib.pyplot as plt\n",
    "from sklearn.metrics import precision_score, accuracy_score, recall_score, f1_score\n",
    "from datetime import datetime\n",
    "import sqlite3\n",
    "from sklearn.linear_model import LinearRegression\n",
    "from sklearn.metrics import r2_score\n"
   ]
  },
  {
   "cell_type": "code",
   "execution_count": 2,
   "id": "769cd6a2",
   "metadata": {},
   "outputs": [
    {
     "name": "stderr",
     "output_type": "stream",
     "text": [
      "[*********************100%%**********************]  1 of 1 completed\n"
     ]
    }
   ],
   "source": [
    "# Retrieve data\n",
    "ticker = 'AAPL'\n",
    "end_date = datetime.now().strftime('%Y-%m-%d')\n",
    "data = yf.download(ticker, start='2020-01-01', end=end_date)"
   ]
  },
  {
   "cell_type": "code",
   "execution_count": 3,
   "id": "474d4551",
   "metadata": {},
   "outputs": [
    {
     "data": {
      "text/plain": [
       "1156"
      ]
     },
     "execution_count": 3,
     "metadata": {},
     "output_type": "execute_result"
    }
   ],
   "source": [
    "# Create connection to sqlite\n",
    "conn = sqlite3.connect(':memory:')\n",
    "\n",
    "# Store data in table\n",
    "data.to_sql('stock_prices', conn, if_exists='replace', index=True)\n"
   ]
  },
  {
   "cell_type": "code",
   "execution_count": 5,
   "id": "e0b166a0",
   "metadata": {},
   "outputs": [],
   "source": [
    "# Retrieve data from sqlite\n",
    "query = \"SELECT* FROM stock_prices\"\n",
    "df = pd.read_sql(query, conn)\n",
    "df['Date'] = pd.to_datetime(df['Date'])"
   ]
  },
  {
   "cell_type": "code",
   "execution_count": 6,
   "id": "d99bacce",
   "metadata": {},
   "outputs": [
    {
     "data": {
      "text/html": [
       "<div>\n",
       "<style scoped>\n",
       "    .dataframe tbody tr th:only-of-type {\n",
       "        vertical-align: middle;\n",
       "    }\n",
       "\n",
       "    .dataframe tbody tr th {\n",
       "        vertical-align: top;\n",
       "    }\n",
       "\n",
       "    .dataframe thead th {\n",
       "        text-align: right;\n",
       "    }\n",
       "</style>\n",
       "<table border=\"1\" class=\"dataframe\">\n",
       "  <thead>\n",
       "    <tr style=\"text-align: right;\">\n",
       "      <th></th>\n",
       "      <th>Date</th>\n",
       "      <th>Open</th>\n",
       "      <th>High</th>\n",
       "      <th>Low</th>\n",
       "      <th>Close</th>\n",
       "      <th>Adj Close</th>\n",
       "      <th>Volume</th>\n",
       "    </tr>\n",
       "  </thead>\n",
       "  <tbody>\n",
       "    <tr>\n",
       "      <th>1151</th>\n",
       "      <td>2024-07-31</td>\n",
       "      <td>221.440002</td>\n",
       "      <td>223.820007</td>\n",
       "      <td>220.630005</td>\n",
       "      <td>222.080002</td>\n",
       "      <td>222.080002</td>\n",
       "      <td>50036300</td>\n",
       "    </tr>\n",
       "    <tr>\n",
       "      <th>1152</th>\n",
       "      <td>2024-08-01</td>\n",
       "      <td>224.369995</td>\n",
       "      <td>224.479996</td>\n",
       "      <td>217.020004</td>\n",
       "      <td>218.360001</td>\n",
       "      <td>218.360001</td>\n",
       "      <td>62501000</td>\n",
       "    </tr>\n",
       "    <tr>\n",
       "      <th>1153</th>\n",
       "      <td>2024-08-02</td>\n",
       "      <td>219.149994</td>\n",
       "      <td>225.600006</td>\n",
       "      <td>217.710007</td>\n",
       "      <td>219.860001</td>\n",
       "      <td>219.860001</td>\n",
       "      <td>105568600</td>\n",
       "    </tr>\n",
       "    <tr>\n",
       "      <th>1154</th>\n",
       "      <td>2024-08-05</td>\n",
       "      <td>199.089996</td>\n",
       "      <td>213.500000</td>\n",
       "      <td>196.000000</td>\n",
       "      <td>209.270004</td>\n",
       "      <td>209.270004</td>\n",
       "      <td>119548600</td>\n",
       "    </tr>\n",
       "    <tr>\n",
       "      <th>1155</th>\n",
       "      <td>2024-08-06</td>\n",
       "      <td>205.300003</td>\n",
       "      <td>209.990005</td>\n",
       "      <td>201.070007</td>\n",
       "      <td>207.229996</td>\n",
       "      <td>207.229996</td>\n",
       "      <td>69660500</td>\n",
       "    </tr>\n",
       "  </tbody>\n",
       "</table>\n",
       "</div>"
      ],
      "text/plain": [
       "           Date        Open        High         Low       Close   Adj Close  \\\n",
       "1151 2024-07-31  221.440002  223.820007  220.630005  222.080002  222.080002   \n",
       "1152 2024-08-01  224.369995  224.479996  217.020004  218.360001  218.360001   \n",
       "1153 2024-08-02  219.149994  225.600006  217.710007  219.860001  219.860001   \n",
       "1154 2024-08-05  199.089996  213.500000  196.000000  209.270004  209.270004   \n",
       "1155 2024-08-06  205.300003  209.990005  201.070007  207.229996  207.229996   \n",
       "\n",
       "         Volume  \n",
       "1151   50036300  \n",
       "1152   62501000  \n",
       "1153  105568600  \n",
       "1154  119548600  \n",
       "1155   69660500  "
      ]
     },
     "execution_count": 6,
     "metadata": {},
     "output_type": "execute_result"
    }
   ],
   "source": [
    "df.tail()"
   ]
  },
  {
   "cell_type": "code",
   "execution_count": 7,
   "id": "0f673a64",
   "metadata": {},
   "outputs": [
    {
     "data": {
      "text/plain": [
       "count    1155.000000\n",
       "mean        0.001090\n",
       "std         0.020538\n",
       "min        -0.128647\n",
       "25%        -0.008893\n",
       "50%         0.000928\n",
       "75%         0.012284\n",
       "max         0.119808\n",
       "Name: Close, dtype: float64"
      ]
     },
     "execution_count": 7,
     "metadata": {},
     "output_type": "execute_result"
    }
   ],
   "source": [
    "df[\"Close\"].pct_change().describe()"
   ]
  },
  {
   "cell_type": "code",
   "execution_count": 8,
   "id": "2c112a27",
   "metadata": {},
   "outputs": [],
   "source": [
    "real_test  = df.iloc[-1,:]"
   ]
  },
  {
   "cell_type": "code",
   "execution_count": 9,
   "id": "5b9093c1",
   "metadata": {},
   "outputs": [
    {
     "data": {
      "text/html": [
       "<div>\n",
       "<style scoped>\n",
       "    .dataframe tbody tr th:only-of-type {\n",
       "        vertical-align: middle;\n",
       "    }\n",
       "\n",
       "    .dataframe tbody tr th {\n",
       "        vertical-align: top;\n",
       "    }\n",
       "\n",
       "    .dataframe thead th {\n",
       "        text-align: right;\n",
       "    }\n",
       "</style>\n",
       "<table border=\"1\" class=\"dataframe\">\n",
       "  <thead>\n",
       "    <tr style=\"text-align: right;\">\n",
       "      <th></th>\n",
       "      <th>Date</th>\n",
       "      <th>Open</th>\n",
       "      <th>High</th>\n",
       "      <th>Low</th>\n",
       "      <th>Close</th>\n",
       "      <th>Adj Close</th>\n",
       "      <th>Volume</th>\n",
       "    </tr>\n",
       "  </thead>\n",
       "  <tbody>\n",
       "    <tr>\n",
       "      <th>1150</th>\n",
       "      <td>2024-07-30</td>\n",
       "      <td>219.190002</td>\n",
       "      <td>220.330002</td>\n",
       "      <td>216.119995</td>\n",
       "      <td>222.080002</td>\n",
       "      <td>218.800003</td>\n",
       "      <td>41643800</td>\n",
       "    </tr>\n",
       "    <tr>\n",
       "      <th>1151</th>\n",
       "      <td>2024-07-31</td>\n",
       "      <td>221.440002</td>\n",
       "      <td>223.820007</td>\n",
       "      <td>220.630005</td>\n",
       "      <td>218.360001</td>\n",
       "      <td>222.080002</td>\n",
       "      <td>50036300</td>\n",
       "    </tr>\n",
       "    <tr>\n",
       "      <th>1152</th>\n",
       "      <td>2024-08-01</td>\n",
       "      <td>224.369995</td>\n",
       "      <td>224.479996</td>\n",
       "      <td>217.020004</td>\n",
       "      <td>219.860001</td>\n",
       "      <td>218.360001</td>\n",
       "      <td>62501000</td>\n",
       "    </tr>\n",
       "    <tr>\n",
       "      <th>1153</th>\n",
       "      <td>2024-08-02</td>\n",
       "      <td>219.149994</td>\n",
       "      <td>225.600006</td>\n",
       "      <td>217.710007</td>\n",
       "      <td>209.270004</td>\n",
       "      <td>219.860001</td>\n",
       "      <td>105568600</td>\n",
       "    </tr>\n",
       "    <tr>\n",
       "      <th>1154</th>\n",
       "      <td>2024-08-05</td>\n",
       "      <td>199.089996</td>\n",
       "      <td>213.500000</td>\n",
       "      <td>196.000000</td>\n",
       "      <td>207.229996</td>\n",
       "      <td>209.270004</td>\n",
       "      <td>119548600</td>\n",
       "    </tr>\n",
       "  </tbody>\n",
       "</table>\n",
       "</div>"
      ],
      "text/plain": [
       "           Date        Open        High         Low       Close   Adj Close  \\\n",
       "1150 2024-07-30  219.190002  220.330002  216.119995  222.080002  218.800003   \n",
       "1151 2024-07-31  221.440002  223.820007  220.630005  218.360001  222.080002   \n",
       "1152 2024-08-01  224.369995  224.479996  217.020004  219.860001  218.360001   \n",
       "1153 2024-08-02  219.149994  225.600006  217.710007  209.270004  219.860001   \n",
       "1154 2024-08-05  199.089996  213.500000  196.000000  207.229996  209.270004   \n",
       "\n",
       "         Volume  \n",
       "1150   41643800  \n",
       "1151   50036300  \n",
       "1152   62501000  \n",
       "1153  105568600  \n",
       "1154  119548600  "
      ]
     },
     "execution_count": 9,
     "metadata": {},
     "output_type": "execute_result"
    }
   ],
   "source": [
    "df[\"Close\"] = df[\"Close\"].shift(-1)\n",
    "df = df.dropna()\n",
    "df.tail()"
   ]
  },
  {
   "cell_type": "code",
   "execution_count": 10,
   "id": "dffe24f0",
   "metadata": {},
   "outputs": [],
   "source": [
    "# Normalize and standardize the 'close' prices\n",
    "scaler = StandardScaler()\n",
    "df['Close'] = scaler.fit_transform(df[['Close']])"
   ]
  },
  {
   "cell_type": "code",
   "execution_count": 11,
   "id": "b61df01c",
   "metadata": {},
   "outputs": [
    {
     "data": {
      "text/html": [
       "<div>\n",
       "<style scoped>\n",
       "    .dataframe tbody tr th:only-of-type {\n",
       "        vertical-align: middle;\n",
       "    }\n",
       "\n",
       "    .dataframe tbody tr th {\n",
       "        vertical-align: top;\n",
       "    }\n",
       "\n",
       "    .dataframe thead th {\n",
       "        text-align: right;\n",
       "    }\n",
       "</style>\n",
       "<table border=\"1\" class=\"dataframe\">\n",
       "  <thead>\n",
       "    <tr style=\"text-align: right;\">\n",
       "      <th></th>\n",
       "      <th>Date</th>\n",
       "      <th>Open</th>\n",
       "      <th>High</th>\n",
       "      <th>Low</th>\n",
       "      <th>Close</th>\n",
       "      <th>Adj Close</th>\n",
       "      <th>Volume</th>\n",
       "    </tr>\n",
       "  </thead>\n",
       "  <tbody>\n",
       "    <tr>\n",
       "      <th>1150</th>\n",
       "      <td>2024-07-30</td>\n",
       "      <td>219.190002</td>\n",
       "      <td>220.330002</td>\n",
       "      <td>216.119995</td>\n",
       "      <td>2.079279</td>\n",
       "      <td>218.800003</td>\n",
       "      <td>41643800</td>\n",
       "    </tr>\n",
       "    <tr>\n",
       "      <th>1151</th>\n",
       "      <td>2024-07-31</td>\n",
       "      <td>221.440002</td>\n",
       "      <td>223.820007</td>\n",
       "      <td>220.630005</td>\n",
       "      <td>1.975744</td>\n",
       "      <td>222.080002</td>\n",
       "      <td>50036300</td>\n",
       "    </tr>\n",
       "    <tr>\n",
       "      <th>1152</th>\n",
       "      <td>2024-08-01</td>\n",
       "      <td>224.369995</td>\n",
       "      <td>224.479996</td>\n",
       "      <td>217.020004</td>\n",
       "      <td>2.017492</td>\n",
       "      <td>218.360001</td>\n",
       "      <td>62501000</td>\n",
       "    </tr>\n",
       "    <tr>\n",
       "      <th>1153</th>\n",
       "      <td>2024-08-02</td>\n",
       "      <td>219.149994</td>\n",
       "      <td>225.600006</td>\n",
       "      <td>217.710007</td>\n",
       "      <td>1.722753</td>\n",
       "      <td>219.860001</td>\n",
       "      <td>105568600</td>\n",
       "    </tr>\n",
       "    <tr>\n",
       "      <th>1154</th>\n",
       "      <td>2024-08-05</td>\n",
       "      <td>199.089996</td>\n",
       "      <td>213.500000</td>\n",
       "      <td>196.000000</td>\n",
       "      <td>1.665976</td>\n",
       "      <td>209.270004</td>\n",
       "      <td>119548600</td>\n",
       "    </tr>\n",
       "  </tbody>\n",
       "</table>\n",
       "</div>"
      ],
      "text/plain": [
       "           Date        Open        High         Low     Close   Adj Close  \\\n",
       "1150 2024-07-30  219.190002  220.330002  216.119995  2.079279  218.800003   \n",
       "1151 2024-07-31  221.440002  223.820007  220.630005  1.975744  222.080002   \n",
       "1152 2024-08-01  224.369995  224.479996  217.020004  2.017492  218.360001   \n",
       "1153 2024-08-02  219.149994  225.600006  217.710007  1.722753  219.860001   \n",
       "1154 2024-08-05  199.089996  213.500000  196.000000  1.665976  209.270004   \n",
       "\n",
       "         Volume  \n",
       "1150   41643800  \n",
       "1151   50036300  \n",
       "1152   62501000  \n",
       "1153  105568600  \n",
       "1154  119548600  "
      ]
     },
     "execution_count": 11,
     "metadata": {},
     "output_type": "execute_result"
    }
   ],
   "source": [
    "df.tail()"
   ]
  },
  {
   "cell_type": "code",
   "execution_count": 12,
   "id": "96545e1b",
   "metadata": {},
   "outputs": [
    {
     "data": {
      "text/plain": [
       "array([[ 74.35749817],\n",
       "       [ 74.94999695],\n",
       "       [ 74.59750366],\n",
       "       ...,\n",
       "       [219.86000061],\n",
       "       [209.27000427],\n",
       "       [207.22999573]])"
      ]
     },
     "execution_count": 12,
     "metadata": {},
     "output_type": "execute_result"
    }
   ],
   "source": [
    "scaler.inverse_transform(df[[\"Close\"]])"
   ]
  },
  {
   "cell_type": "code",
   "execution_count": 13,
   "id": "7b7fe2d3",
   "metadata": {},
   "outputs": [
    {
     "name": "stdout",
     "output_type": "stream",
     "text": [
      "R-squared: 0.9679067422228945\n"
     ]
    },
    {
     "data": {
      "text/html": [
       "<div>\n",
       "<style scoped>\n",
       "    .dataframe tbody tr th:only-of-type {\n",
       "        vertical-align: middle;\n",
       "    }\n",
       "\n",
       "    .dataframe tbody tr th {\n",
       "        vertical-align: top;\n",
       "    }\n",
       "\n",
       "    .dataframe thead th {\n",
       "        text-align: right;\n",
       "    }\n",
       "</style>\n",
       "<table border=\"1\" class=\"dataframe\">\n",
       "  <thead>\n",
       "    <tr style=\"text-align: right;\">\n",
       "      <th></th>\n",
       "      <th>Date</th>\n",
       "      <th>Open</th>\n",
       "      <th>High</th>\n",
       "      <th>Low</th>\n",
       "      <th>Close</th>\n",
       "      <th>Adj Close</th>\n",
       "      <th>Volume</th>\n",
       "    </tr>\n",
       "  </thead>\n",
       "  <tbody>\n",
       "    <tr>\n",
       "      <th>0</th>\n",
       "      <td>2020-01-02</td>\n",
       "      <td>74.059998</td>\n",
       "      <td>75.150002</td>\n",
       "      <td>73.797501</td>\n",
       "      <td>-2.032115</td>\n",
       "      <td>72.960457</td>\n",
       "      <td>135480400</td>\n",
       "    </tr>\n",
       "    <tr>\n",
       "      <th>1</th>\n",
       "      <td>2020-01-03</td>\n",
       "      <td>74.287498</td>\n",
       "      <td>75.144997</td>\n",
       "      <td>74.125000</td>\n",
       "      <td>-2.015625</td>\n",
       "      <td>72.251114</td>\n",
       "      <td>146322800</td>\n",
       "    </tr>\n",
       "    <tr>\n",
       "      <th>2</th>\n",
       "      <td>2020-01-06</td>\n",
       "      <td>73.447502</td>\n",
       "      <td>74.989998</td>\n",
       "      <td>73.187500</td>\n",
       "      <td>-2.025435</td>\n",
       "      <td>72.826836</td>\n",
       "      <td>118387200</td>\n",
       "    </tr>\n",
       "    <tr>\n",
       "      <th>3</th>\n",
       "      <td>2020-01-07</td>\n",
       "      <td>74.959999</td>\n",
       "      <td>75.224998</td>\n",
       "      <td>74.370003</td>\n",
       "      <td>-1.992037</td>\n",
       "      <td>72.484360</td>\n",
       "      <td>108872000</td>\n",
       "    </tr>\n",
       "    <tr>\n",
       "      <th>4</th>\n",
       "      <td>2020-01-08</td>\n",
       "      <td>74.290001</td>\n",
       "      <td>76.110001</td>\n",
       "      <td>74.290001</td>\n",
       "      <td>-1.947228</td>\n",
       "      <td>73.650345</td>\n",
       "      <td>132079200</td>\n",
       "    </tr>\n",
       "  </tbody>\n",
       "</table>\n",
       "</div>"
      ],
      "text/plain": [
       "        Date       Open       High        Low     Close  Adj Close     Volume\n",
       "0 2020-01-02  74.059998  75.150002  73.797501 -2.032115  72.960457  135480400\n",
       "1 2020-01-03  74.287498  75.144997  74.125000 -2.015625  72.251114  146322800\n",
       "2 2020-01-06  73.447502  74.989998  73.187500 -2.025435  72.826836  118387200\n",
       "3 2020-01-07  74.959999  75.224998  74.370003 -1.992037  72.484360  108872000\n",
       "4 2020-01-08  74.290001  76.110001  74.290001 -1.947228  73.650345  132079200"
      ]
     },
     "execution_count": 13,
     "metadata": {},
     "output_type": "execute_result"
    }
   ],
   "source": [
    "# Train a linear regression model\n",
    "X = df[['Open', 'High', 'Low', 'Volume']]\n",
    "y = df['Close']\n",
    "X_train, X_test, y_train, y_test = train_test_split(X, y, test_size=0.2, random_state=42, shuffle=False)\n",
    "\n",
    "model = LinearRegression()\n",
    "model.fit(X_train, y_train)\n",
    "\n",
    "# Evaluate the model\n",
    "y_pred = model.predict(X_test)\n",
    "r2 = r2_score(y_test, y_pred)\n",
    "print(f'R-squared: {r2}')\n",
    "\n",
    "df.head()\n"
   ]
  },
  {
   "cell_type": "code",
   "execution_count": 14,
   "id": "10bec734",
   "metadata": {},
   "outputs": [],
   "source": [
    "dep = pd.DataFrame(model.coef_).T"
   ]
  },
  {
   "cell_type": "code",
   "execution_count": 15,
   "id": "cf5ed634",
   "metadata": {},
   "outputs": [
    {
     "data": {
      "text/html": [
       "<div>\n",
       "<style scoped>\n",
       "    .dataframe tbody tr th:only-of-type {\n",
       "        vertical-align: middle;\n",
       "    }\n",
       "\n",
       "    .dataframe tbody tr th {\n",
       "        vertical-align: top;\n",
       "    }\n",
       "\n",
       "    .dataframe thead th {\n",
       "        text-align: right;\n",
       "    }\n",
       "</style>\n",
       "<table border=\"1\" class=\"dataframe\">\n",
       "  <thead>\n",
       "    <tr style=\"text-align: right;\">\n",
       "      <th></th>\n",
       "      <th>Open</th>\n",
       "      <th>High</th>\n",
       "      <th>Low</th>\n",
       "      <th>Volume</th>\n",
       "    </tr>\n",
       "  </thead>\n",
       "  <tbody>\n",
       "    <tr>\n",
       "      <th>0</th>\n",
       "      <td>-0.022168</td>\n",
       "      <td>0.02194</td>\n",
       "      <td>0.027991</td>\n",
       "      <td>2.159282e-11</td>\n",
       "    </tr>\n",
       "  </tbody>\n",
       "</table>\n",
       "</div>"
      ],
      "text/plain": [
       "       Open     High       Low        Volume\n",
       "0 -0.022168  0.02194  0.027991  2.159282e-11"
      ]
     },
     "execution_count": 15,
     "metadata": {},
     "output_type": "execute_result"
    }
   ],
   "source": [
    "dep.columns = X.columns\n",
    "dep"
   ]
  },
  {
   "cell_type": "code",
   "execution_count": 16,
   "id": "1d385ca3",
   "metadata": {},
   "outputs": [
    {
     "data": {
      "text/plain": [
       "-4.080444969554058"
      ]
     },
     "execution_count": 16,
     "metadata": {},
     "output_type": "execute_result"
    }
   ],
   "source": [
    "model.intercept_"
   ]
  },
  {
   "cell_type": "code",
   "execution_count": 17,
   "id": "6ec55818",
   "metadata": {},
   "outputs": [],
   "source": [
    "pred = pd.DataFrame(y_pred, index= y_test)"
   ]
  },
  {
   "cell_type": "code",
   "execution_count": 18,
   "id": "7871de4a",
   "metadata": {},
   "outputs": [],
   "source": [
    "y_test_true = scaler.inverse_transform(pd.DataFrame(y_test))\n",
    "y_pred = scaler.inverse_transform(pred)"
   ]
  },
  {
   "cell_type": "code",
   "execution_count": 19,
   "id": "bc77dcfe",
   "metadata": {},
   "outputs": [
    {
     "data": {
      "image/png": "[encoded data removed]",
      "text/plain": [
       "<Figure size 640x480 with 1 Axes>"
      ]
     },
     "metadata": {},
     "output_type": "display_data"
    }
   ],
   "source": [
    "# Create a line chart of the 'Close' price\n",
    "plt.plot(figsize=(10,6))\n",
    "plt.plot(df['Date'], df['Close'], label='Close Price')\n",
    "plt.xlabel('Date')\n",
    "plt.ylabel('Normalized Close Price')\n",
    "plt.title('Stock Close Price')\n",
    "plt.legend()\n",
    "plt.show()"
   ]
  },
  {
   "cell_type": "code",
   "execution_count": 20,
   "id": "30bbc804",
   "metadata": {},
   "outputs": [],
   "source": [
    "import numpy as np"
   ]
  },
  {
   "cell_type": "code",
   "execution_count": 21,
   "id": "14f2e4d1",
   "metadata": {},
   "outputs": [
    {
     "data": {
      "text/plain": [
       "<Axes: >"
      ]
     },
     "execution_count": 21,
     "metadata": {},
     "output_type": "execute_result"
    },
    {
     "data": {
      "image/png": "[encoded data removed]",
      "text/plain": [
       "<Figure size 640x480 with 1 Axes>"
      ]
     },
     "metadata": {},
     "output_type": "display_data"
    }
   ],
   "source": [
    "pd.Series(np.ravel(y_pred)).plot()\n",
    "pd.Series(np.ravel(y_test_true)).plot()"
   ]
  },
  {
   "cell_type": "code",
   "execution_count": 22,
   "id": "5b40eec8",
   "metadata": {},
   "outputs": [
    {
     "data": {
      "text/plain": [
       "<Axes: >"
      ]
     },
     "execution_count": 22,
     "metadata": {},
     "output_type": "execute_result"
    },
    {
     "data": {
      "image/png": "[encoded data removed]",
      "text/plain": [
       "<Figure size 640x480 with 1 Axes>"
      ]
     },
     "metadata": {},
     "output_type": "display_data"
    }
   ],
   "source": [
    "pd.Series(np.ravel(y_test_true) - np.ravel(y_pred)).plot()"
   ]
  },
  {
   "cell_type": "code",
   "execution_count": 22,
   "id": "8b20fe23",
   "metadata": {},
   "outputs": [
    {
     "data": {
      "text/html": [
       "<div>\n",
       "<style scoped>\n",
       "    .dataframe tbody tr th:only-of-type {\n",
       "        vertical-align: middle;\n",
       "    }\n",
       "\n",
       "    .dataframe tbody tr th {\n",
       "        vertical-align: top;\n",
       "    }\n",
       "\n",
       "    .dataframe thead th {\n",
       "        text-align: right;\n",
       "    }\n",
       "</style>\n",
       "<table border=\"1\" class=\"dataframe\">\n",
       "  <thead>\n",
       "    <tr style=\"text-align: right;\">\n",
       "      <th></th>\n",
       "      <th>0</th>\n",
       "      <th>1</th>\n",
       "    </tr>\n",
       "  </thead>\n",
       "  <tbody>\n",
       "    <tr>\n",
       "      <th>0</th>\n",
       "      <td>182.910004</td>\n",
       "      <td>189.271829</td>\n",
       "    </tr>\n",
       "    <tr>\n",
       "      <th>1</th>\n",
       "      <td>177.559998</td>\n",
       "      <td>182.138798</td>\n",
       "    </tr>\n",
       "    <tr>\n",
       "      <th>2</th>\n",
       "      <td>178.179993</td>\n",
       "      <td>176.329609</td>\n",
       "    </tr>\n",
       "    <tr>\n",
       "      <th>3</th>\n",
       "      <td>179.360001</td>\n",
       "      <td>179.642768</td>\n",
       "    </tr>\n",
       "    <tr>\n",
       "      <th>4</th>\n",
       "      <td>176.300003</td>\n",
       "      <td>177.862423</td>\n",
       "    </tr>\n",
       "    <tr>\n",
       "      <th>...</th>\n",
       "      <td>...</td>\n",
       "      <td>...</td>\n",
       "    </tr>\n",
       "    <tr>\n",
       "      <th>226</th>\n",
       "      <td>222.080002</td>\n",
       "      <td>217.246637</td>\n",
       "    </tr>\n",
       "    <tr>\n",
       "      <th>227</th>\n",
       "      <td>218.360001</td>\n",
       "      <td>222.747899</td>\n",
       "    </tr>\n",
       "    <tr>\n",
       "      <th>228</th>\n",
       "      <td>219.860001</td>\n",
       "      <td>217.313551</td>\n",
       "    </tr>\n",
       "    <tr>\n",
       "      <th>229</th>\n",
       "      <td>209.270004</td>\n",
       "      <td>223.081453</td>\n",
       "    </tr>\n",
       "    <tr>\n",
       "      <th>230</th>\n",
       "      <td>207.229996</td>\n",
       "      <td>207.697781</td>\n",
       "    </tr>\n",
       "  </tbody>\n",
       "</table>\n",
       "<p>231 rows × 2 columns</p>\n",
       "</div>"
      ],
      "text/plain": [
       "              0           1\n",
       "0    182.910004  189.271829\n",
       "1    177.559998  182.138798\n",
       "2    178.179993  176.329609\n",
       "3    179.360001  179.642768\n",
       "4    176.300003  177.862423\n",
       "..          ...         ...\n",
       "226  222.080002  217.246637\n",
       "227  218.360001  222.747899\n",
       "228  219.860001  217.313551\n",
       "229  209.270004  223.081453\n",
       "230  207.229996  207.697781\n",
       "\n",
       "[231 rows x 2 columns]"
      ]
     },
     "execution_count": 22,
     "metadata": {},
     "output_type": "execute_result"
    }
   ],
   "source": [
    "pd.concat([pd.Series(np.ravel(y_test_true)),pd.Series(np.ravel(y_pred))], axis = \"columns\")"
   ]
  },
  {
   "cell_type": "code",
   "execution_count": 23,
   "id": "28cc5117",
   "metadata": {},
   "outputs": [
    {
     "data": {
      "text/plain": [
       "188.00593084690374"
      ]
     },
     "execution_count": 23,
     "metadata": {},
     "output_type": "execute_result"
    }
   ],
   "source": [
    "np.mean(np.abs(np.ravel(y_test_true),np.ravel(y_pred)))"
   ]
  },
  {
   "cell_type": "markdown",
   "id": "ad3681af",
   "metadata": {},
   "source": [
    "### Avoid look ahead bias\n",
    "   1. Model already has been fed H, L, O --> so it knows that the close is going to be in between H and L\n",
    "   2. Hence the margin of error is low.\n",
    "   3. You cannot possibly know the highest daily high and lowest daily low as long as the trading day is still active.\n",
    "4.    It always good to use lag for predicting time series."
   ]
  },
  {
   "cell_type": "markdown",
   "id": "6ec98690",
   "metadata": {},
   "source": [
    "### Tackling Overfitting in LSTM and Time Series Probelm:\n",
    " 1. Dropout layers / Increasing the ratio.\n",
    "\n",
    " 2. Regulization:\n",
    "    -L1 --> Lasso\n",
    "    -L2 --> Ridge\n",
    "    -Elastic Net -- > L1 and L2\n",
    "    \n",
    "    \n",
    " 3. Data Augmentation:\n",
    "    -More Data\n",
    "    -Feature engineering.\n",
    "    \n",
    " 4. Reducing Model Complexity: (If your model is too big.)\n",
    " \n",
    " 5. Cross- Validation\n",
    "\n",
    " 6. Batch Normalization\n",
    "\n",
    " 7. Hyperparameter Tuning"
   ]
  },
  {
   "cell_type": "code",
   "execution_count": null,
   "id": "ed096c03",
   "metadata": {},
   "outputs": [],
   "source": []
  },
  {
   "cell_type": "code",
   "execution_count": null,
   "id": "a91b54c4",
   "metadata": {},
   "outputs": [],
   "source": []
  }
 ],
 "metadata": {
  "kernelspec": {
   "display_name": "Python 3 (ipykernel)",
   "language": "python",
   "name": "python3"
  },
  "language_info": {
   "codemirror_mode": {
    "name": "ipython",
    "version": 3
   },
   "file_extension": ".py",
   "mimetype": "text/x-python",
   "name": "python",
   "nbconvert_exporter": "python",
   "pygments_lexer": "ipython3",
   "version": "3.11.5"
  }
 },
 "nbformat": 4,
 "nbformat_minor": 5
}

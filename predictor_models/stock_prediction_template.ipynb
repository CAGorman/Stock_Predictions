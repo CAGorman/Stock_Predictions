{
 "cells": [
  {
   "cell_type": "code",
   "execution_count": null,
   "id": "11f0bd18-0dfb-4bc1-a05c-03484dbfd384",
   "metadata": {},
   "outputs": [],
   "source": [
    "import yfinance as yf\n",
    "from sklearn.model_selection import train_test_split\n",
    "from sklearn.preprocessing import StandardScaler\n",
    "import pandas as pd\n",
    "import tensorflow as tf\n",
    "import matplotlib.pyplot as plt\n",
    "from sklearn.metrics import precision_score, accuracy_score, recall_score, f1_score"
   ]
  },
  {
   "cell_type": "code",
   "execution_count": null,
   "id": "cf913612-d058-4ac4-8c50-73ed79100514",
   "metadata": {},
   "outputs": [],
   "source": [
    "stock = yf.Ticker(\"AAPL\")\n",
    "stock = stock.history(period='2y')\n"
   ]
  },
  {
   "cell_type": "code",
   "execution_count": null,
   "id": "b52447f0-05bd-42cb-ad67-f901ad5606b4",
   "metadata": {},
   "outputs": [],
   "source": [
    "stock"
   ]
  },
  {
   "cell_type": "code",
   "execution_count": null,
   "id": "88dad4c2-8e2d-4308-866c-0d61a6b0d6c0",
   "metadata": {},
   "outputs": [],
   "source": [
    "del stock['Dividends']\n",
    "del stock['Stock Splits']"
   ]
  },
  {
   "cell_type": "code",
   "execution_count": null,
   "id": "9fb8c92d-0592-4c08-b7d9-aa13b7a00b2c",
   "metadata": {},
   "outputs": [],
   "source": [
    "stock"
   ]
  },
  {
   "cell_type": "code",
   "execution_count": null,
   "id": "e63cf73e-7211-47a8-9a4b-088bfc5e6a43",
   "metadata": {},
   "outputs": [],
   "source": [
    "stock.plot.line(y=\"Close\")"
   ]
  },
  {
   "cell_type": "code",
   "execution_count": null,
   "id": "3f09be49-1888-4ab2-9d48-0ec8e0494fdf",
   "metadata": {},
   "outputs": [],
   "source": [
    "stock[\"Next Days Close\"] = stock['Close'].shift(-1)"
   ]
  },
  {
   "cell_type": "code",
   "execution_count": null,
   "id": "25436ad1-a2ca-4c9d-90b1-c906a2ad603c",
   "metadata": {},
   "outputs": [],
   "source": [
    "stock"
   ]
  },
  {
   "cell_type": "code",
   "execution_count": null,
   "id": "0a9826f6-9c19-401c-a8c0-3fe49d3933b9",
   "metadata": {},
   "outputs": [],
   "source": [
    "stock['change'] = (stock['Next Days Close'] > stock['Close']).astype(int)"
   ]
  },
  {
   "cell_type": "code",
   "execution_count": null,
   "id": "fbccd4ca-7710-4ea1-a481-33e657978df5",
   "metadata": {},
   "outputs": [],
   "source": [
    "stock"
   ]
  },
  {
   "cell_type": "code",
   "execution_count": null,
   "id": "4bd41a7b-baf6-46c3-a0bb-84fe361220a7",
   "metadata": {},
   "outputs": [],
   "source": [
    "# Drop rows with NaN target values\n",
    "stock = stock.dropna(subset=['Next Days Close', 'change'])\n",
    "\n",
    "# Split our preprocessed data into our features and target arrays\n",
    "y = stock['change']\n",
    "X = stock.drop(columns=['change'])\n",
    "\n",
    "# Preserve the index of the original DataFrame\n",
    "original_index = X.index"
   ]
  },
  {
   "cell_type": "code",
   "execution_count": null,
   "id": "81bd5b4a-179e-4b50-af8b-6a0b63a905ab",
   "metadata": {},
   "outputs": [],
   "source": [
    "#Normalize data\n",
    "scaler = StandardScaler()\n",
    "X_scaled = scaler.fit_transform(X)"
   ]
  },
  {
   "cell_type": "code",
   "execution_count": null,
   "id": "fa14d209-e9f1-4e84-8d16-67286eb37eb7",
   "metadata": {},
   "outputs": [],
   "source": [
    "#split data into training and test sets\n",
    "X_train, X_test, y_train, y_test = train_test_split(X_scaled, y, test_size=0.2, shuffle=False)\n",
    "# Rebuild X_test DataFrame to restore index information\n",
    "X_test_df = pd.DataFrame(X_test, index=original_index[-len(X_test):], columns=X.columns)"
   ]
  },
  {
   "cell_type": "code",
   "execution_count": null,
   "id": "06d86ed6-f065-4cf6-a1dc-937a7218e5fd",
   "metadata": {},
   "outputs": [],
   "source": [
    "# Define the model\n",
    "model = tf.keras.models.Sequential([\n",
    "    tf.keras.layers.Dense(64, activation='relu', input_dim=X_train.shape[1]),\n",
    "    tf.keras.layers.Dense(32, activation='relu'),\n",
    "    tf.keras.layers.Dense(1, activation='sigmoid')  # For binary classification\n",
    "])"
   ]
  },
  {
   "cell_type": "code",
   "execution_count": null,
   "id": "ea450756-5085-4384-9f1e-563bfc682db8",
   "metadata": {},
   "outputs": [],
   "source": [
    "model.compile(optimizer='adam', loss='binary_crossentropy', metrics=['accuracy'])"
   ]
  },
  {
   "cell_type": "code",
   "execution_count": null,
   "id": "616b8e4d-0dd6-43aa-ae55-7b66ee0185fe",
   "metadata": {},
   "outputs": [],
   "source": [
    "# Train the model\n",
    "model.fit(X_train, y_train, epochs=100, batch_size=32)"
   ]
  },
  {
   "cell_type": "code",
   "execution_count": null,
   "id": "bcb1150d-ff3d-4142-92cd-613b51dbd90d",
   "metadata": {},
   "outputs": [],
   "source": [
    "# Evaluate the model using the test data\n",
    "model_loss, model_accuracy = model.evaluate(X_test_df, y_test)\n",
    "print(f'Test Loss: {model_loss}, Test Accuracy: {model_accuracy}')"
   ]
  },
  {
   "cell_type": "code",
   "execution_count": null,
   "id": "c230df6e-7a3a-4092-b3a5-d145ea07f145",
   "metadata": {},
   "outputs": [],
   "source": [
    "# Make predictions\n",
    "predictions = model.predict(X_test_df).round().flatten()"
   ]
  },
  {
   "cell_type": "code",
   "execution_count": null,
   "id": "fe49d64b-33cd-46a0-905d-080cbc8537c5",
   "metadata": {},
   "outputs": [],
   "source": [
    "# Create a DataFrame for predictions with the index of X_test_df\n",
    "predictions_df = pd.DataFrame(predictions, index=X_test_df.index, columns=['Predictions'])"
   ]
  },
  {
   "cell_type": "code",
   "execution_count": null,
   "id": "d104817c-d45b-44a1-a9a8-085363c8446e",
   "metadata": {},
   "outputs": [],
   "source": [
    "precision_score(y_test,predictions)"
   ]
  },
  {
   "cell_type": "code",
   "execution_count": null,
   "id": "5b64892e-72c2-4a36-9475-309394ea4d56",
   "metadata": {
    "scrolled": true
   },
   "outputs": [],
   "source": [
    "# Combine actual values and predictions\n",
    "combined = pd.concat([y_test, predictions_df], axis=1)\n",
    "\n",
    "# Plot the combined DataFrame\n",
    "combined.plot(title='Actual vs. Predicted')"
   ]
  },
  {
   "cell_type": "code",
   "execution_count": null,
   "id": "08349c4e-fd4d-4a9d-9c54-275d15e49a33",
   "metadata": {},
   "outputs": [],
   "source": [
    "predictions_df.value_counts()"
   ]
  }
 ],
 "metadata": {
  "kernelspec": {
   "display_name": "Python 3 (ipykernel)",
   "language": "python",
   "name": "python3"
  },
  "language_info": {
   "codemirror_mode": {
    "name": "ipython",
    "version": 3
   },
   "file_extension": ".py",
   "mimetype": "text/x-python",
   "name": "python",
   "nbconvert_exporter": "python",
   "pygments_lexer": "ipython3",
   "version": "3.11.5"
  }
 },
 "nbformat": 4,
 "nbformat_minor": 5
}
